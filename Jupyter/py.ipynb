{
 "cells": [
  {
   "cell_type": "code",
   "execution_count": null,
   "metadata": {},
   "outputs": [
    {
     "ename": "",
     "evalue": "",
     "output_type": "error",
     "traceback": [
      "\u001b[1;31mRunning cells with 'Python 3.13.1' requires the ipykernel package.\n",
      "\u001b[1;31mRun the following command to install 'ipykernel' into the Python environment. \n",
      "\u001b[1;31mCommand: '/opt/homebrew/bin/python3 -m pip install ipykernel -U --user --force-reinstall'"
     ]
    }
   ],
   "source": [
    "import numpy as np\n",
    "import matplotlib.pyplot as plt\n",
    "import csv\n",
    "\n",
    "# Read data from CSV file\n",
    "filename = \"log.csv\"  # Replace with your CSV file name\n",
    "lengths = []\n",
    "frequencies = []\n",
    "harmonics = []\n",
    "tensions = []\n",
    "\n",
    "try:\n",
    "    with open(filename, mode=\"r\") as file:\n",
    "        reader = csv.DictReader(file)\n",
    "        print(\"Headers in CSV file:\", reader.fieldnames)  # Debug: Print headers\n",
    "        for row in reader:\n",
    "            try:\n",
    "                lengths.append(float(row[\"length\"]))\n",
    "                frequencies.append(float(row[\"freq\"]))\n",
    "                harmonics.append(int(row[\"harmonic\"]))\n",
    "                tensions.append(float(row[\"tension\"]))  # Read tension from CSV\n",
    "            except ValueError as e:\n",
    "                print(f\"Skipping invalid row: {row} ({e})\")  # Handle conversion errors\n",
    "\n",
    "except FileNotFoundError:\n",
    "    print(f\"Error: The file '{filename}' was not found.\")\n",
    "    exit()\n",
    "except KeyError as e:\n",
    "    print(f\"Error: The key '{e}' was not found in the CSV headers.\")\n",
    "    exit()\n",
    "except Exception as e:\n",
    "    print(f\"An unexpected error occurred: {e}\")\n",
    "    exit()\n",
    "\n",
    "# Convert lists to numpy arrays\n",
    "lengths = np.array(lengths)\n",
    "frequencies = np.array(frequencies)\n",
    "harmonics = np.array(harmonics)\n",
    "tensions = np.array(tensions)\n",
    "\n",
    "# Verify all tension values are the same\n",
    "if not np.all(tensions == tensions[0]):\n",
    "    print(\"Warning: Tension values are not consistent!\")\n",
    "tension = tensions[0]  # Use the first tension value\n",
    "\n",
    "# Calculate x = n / (2L)\n",
    "x_values = harmonics / (2 * lengths)\n",
    "\n",
    "# Calculate y = f (frequency)\n",
    "y_values = frequencies\n",
    "\n",
    "# Sort data for better visualization\n",
    "sorted_indices = np.argsort(x_values)\n",
    "x_values = x_values[sorted_indices]\n",
    "y_values = y_values[sorted_indices]\n",
    "\n",
    "# Perform linear regression\n",
    "slope, intercept = np.polyfit(x_values, y_values, 1)\n",
    "\n",
    "# Calculate linear density (mu)\n",
    "mu = tension / (slope ** 2)\n",
    "\n",
    "# Plot the data\n",
    "plt.scatter(x_values, y_values, label=\"Data Points\")\n",
    "plt.plot(x_values, slope * x_values + intercept, color='red', label=f\"Fit: y = {slope:.2f}x + {intercept:.2f}\")\n",
    "\n",
    "# Add labels and title\n",
    "plt.xlabel(r\"$\\frac{n}{2L}$ (1/m)\")\n",
    "plt.ylabel(\"Frequency (Hz)\")\n",
    "plt.title(f\"Frequency vs. $\\\\frac{{n}}{{2L}}$\\nLinear Density ($\\\\mu$) = {mu:.6e} kg/m\")\n",
    "plt.legend()\n",
    "plt.grid(True)\n",
    "plt.show()\n",
    "\n",
    "# Print the results\n",
    "print(f\"Gradient (slope): {slope:.2f}\")\n",
    "print(f\"Linear density (mu): {mu:.6e} kg/m\")\n"
   ]
  },
  {
   "cell_type": "code",
   "execution_count": null,
   "metadata": {},
   "outputs": [],
   "source": []
  }
 ],
 "metadata": {
  "kernelspec": {
   "display_name": "Python 3",
   "language": "python",
   "name": "python3"
  },
  "language_info": {
   "codemirror_mode": {
    "name": "ipython",
    "version": 3
   },
   "file_extension": ".py",
   "mimetype": "text/x-python",
   "name": "python",
   "nbconvert_exporter": "python",
   "pygments_lexer": "ipython3",
   "version": "3.13.1"
  }
 },
 "nbformat": 4,
 "nbformat_minor": 2
}
